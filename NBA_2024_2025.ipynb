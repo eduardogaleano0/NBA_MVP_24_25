{
 "cells": [
  {
   "metadata": {},
   "cell_type": "raw",
   "source": "Projeto para acompanhar a corrida para o título de MVP da NBA na temporada 2024-2025\n",
   "id": "d72ca2d0364bc287"
  },
  {
   "metadata": {},
   "cell_type": "raw",
   "source": "Os dados do projetos são coletados via a API NBA_API, API que coleta as informações compartilhadas no site da NBA.",
   "id": "a5b0bb073679e03"
  },
  {
   "metadata": {
    "ExecuteTime": {
     "end_time": "2025-03-31T03:52:32.941689Z",
     "start_time": "2025-03-31T03:52:24.771792Z"
    }
   },
   "cell_type": "code",
   "source": [
    "# Importando bibliotecas\n",
    "import pandas as pd\n",
    "import seaborn as sns\n",
    "import matplotlib.pyplot as plt\n",
    "\n",
    "# Importando dados dos times da API da NBA\n",
    "from nba_api.stats.endpoints import TeamInfoCommon\n",
    "from nba_api.stats.static import teams\n",
    "\n",
    "# Obter a lista de times da NBA\n",
    "nba_teams = teams.get_teams()\n",
    "\n",
    "# Criar um dicionário com os IDs dos times\n",
    "team_ids_dict = {team['full_name']: team['id'] for team in nba_teams}\n",
    "\n",
    "# Criar um DataFrame vazio para armazenar os dados\n",
    "df = pd.DataFrame()\n",
    "\n",
    "# Percorrer os times e adicionar os dados ao DataFrame\n",
    "for team_name, team_id in team_ids_dict.items():\n",
    "    team_info = TeamInfoCommon(team_id=team_id)  # Obter informações sobre o time\n",
    "    df_team = team_info.get_data_frames()[0]  # Selecionar o primeiro DataFrame retornado\n",
    "    df_team['TeamName'] = team_name  # Adicionar o nome do time ao DataFrame\n",
    "    df_team['Season'] = '2024-25'  # Adicionar a temporada ao DataFrame\n",
    "    df = pd.concat([df, df_team], ignore_index=True)  # Concatenar ao DataFrame principal\n",
    "\n",
    "# Exibir o DataFrame combinado\n",
    "df\n"
   ],
   "id": "af180f6e15c584cd",
   "outputs": [
    {
     "data": {
      "text/plain": [
       "       TEAM_ID SEASON_YEAR      TEAM_CITY      TEAM_NAME TEAM_ABBREVIATION  \\\n",
       "0   1610612737     2024-25        Atlanta          Hawks               ATL   \n",
       "1   1610612738     2024-25         Boston        Celtics               BOS   \n",
       "2   1610612739     2024-25      Cleveland      Cavaliers               CLE   \n",
       "3   1610612740     2024-25    New Orleans       Pelicans               NOP   \n",
       "4   1610612741     2024-25        Chicago          Bulls               CHI   \n",
       "5   1610612742     2024-25         Dallas      Mavericks               DAL   \n",
       "6   1610612743     2024-25         Denver        Nuggets               DEN   \n",
       "7   1610612744     2024-25   Golden State       Warriors               GSW   \n",
       "8   1610612745     2024-25        Houston        Rockets               HOU   \n",
       "9   1610612746     2024-25             LA       Clippers               LAC   \n",
       "10  1610612747     2024-25    Los Angeles         Lakers               LAL   \n",
       "11  1610612748     2024-25          Miami           Heat               MIA   \n",
       "12  1610612749     2024-25      Milwaukee          Bucks               MIL   \n",
       "13  1610612750     2024-25      Minnesota   Timberwolves               MIN   \n",
       "14  1610612751     2024-25       Brooklyn           Nets               BKN   \n",
       "15  1610612752     2024-25       New York         Knicks               NYK   \n",
       "16  1610612753     2024-25        Orlando          Magic               ORL   \n",
       "17  1610612754     2024-25        Indiana         Pacers               IND   \n",
       "18  1610612755     2024-25   Philadelphia          76ers               PHI   \n",
       "19  1610612756     2024-25        Phoenix           Suns               PHX   \n",
       "20  1610612757     2024-25       Portland  Trail Blazers               POR   \n",
       "21  1610612758     2024-25     Sacramento          Kings               SAC   \n",
       "22  1610612759     2024-25    San Antonio          Spurs               SAS   \n",
       "23  1610612760     2024-25  Oklahoma City        Thunder               OKC   \n",
       "24  1610612761     2024-25        Toronto        Raptors               TOR   \n",
       "25  1610612762     2024-25           Utah           Jazz               UTA   \n",
       "26  1610612763     2024-25        Memphis      Grizzlies               MEM   \n",
       "27  1610612764     2024-25     Washington        Wizards               WAS   \n",
       "28  1610612765     2024-25        Detroit        Pistons               DET   \n",
       "29  1610612766     2024-25      Charlotte        Hornets               CHA   \n",
       "\n",
       "   TEAM_CONFERENCE TEAM_DIVISION     TEAM_CODE     TEAM_SLUG   W   L    PCT  \\\n",
       "0             East     Southeast         hawks         hawks  36  38  0.486   \n",
       "1             East      Atlantic       celtics       celtics  55  19  0.743   \n",
       "2             East       Central     cavaliers     cavaliers  60  15  0.800   \n",
       "3             West     Southwest      pelicans      pelicans  21  54  0.280   \n",
       "4             East       Central         bulls         bulls  33  41  0.446   \n",
       "5             West     Southwest     mavericks     mavericks  37  38  0.493   \n",
       "6             West     Northwest       nuggets       nuggets  47  28  0.627   \n",
       "7             West       Pacific      warriors      warriors  43  31  0.581   \n",
       "8             West     Southwest       rockets       rockets  49  26  0.653   \n",
       "9             West       Pacific      clippers      clippers  42  32  0.568   \n",
       "10            West       Pacific        lakers        lakers  45  29  0.608   \n",
       "11            East     Southeast          heat          heat  33  41  0.446   \n",
       "12            East       Central         bucks         bucks  40  34  0.541   \n",
       "13            West     Northwest  timberwolves  timberwolves  43  32  0.573   \n",
       "14            East      Atlantic          nets          nets  24  51  0.320   \n",
       "15            East      Atlantic        knicks        knicks  47  27  0.635   \n",
       "16            East     Southeast         magic         magic  36  39  0.480   \n",
       "17            East       Central        pacers        pacers  43  31  0.581   \n",
       "18            East      Atlantic        sixers        sixers  23  52  0.307   \n",
       "19            West       Pacific          suns          suns  35  40  0.467   \n",
       "20            West     Northwest       blazers       blazers  32  43  0.427   \n",
       "21            West       Pacific         kings         kings  36  38  0.486   \n",
       "22            West     Southwest         spurs         spurs  31  43  0.419   \n",
       "23            West     Northwest       thunder       thunder  62  12  0.838   \n",
       "24            East      Atlantic       raptors       raptors  28  47  0.373   \n",
       "25            West     Northwest          jazz          jazz  16  59  0.213   \n",
       "26            West     Southwest     grizzlies     grizzlies  44  30  0.595   \n",
       "27            East     Southeast       wizards       wizards  16  58  0.216   \n",
       "28            East       Central       pistons       pistons  42  33  0.560   \n",
       "29            East     Southeast       hornets       hornets  18  56  0.243   \n",
       "\n",
       "    CONF_RANK  DIV_RANK MIN_YEAR MAX_YEAR                TeamName   Season  \n",
       "0           7         1     1949     2024           Atlanta Hawks  2024-25  \n",
       "1           2         1     1946     2024          Boston Celtics  2024-25  \n",
       "2           1         1     1970     2024     Cleveland Cavaliers  2024-25  \n",
       "3          14         5     2002     2024    New Orleans Pelicans  2024-25  \n",
       "4           9         5     1966     2024           Chicago Bulls  2024-25  \n",
       "5           9         3     1980     2024        Dallas Mavericks  2024-25  \n",
       "6           3         2     1976     2024          Denver Nuggets  2024-25  \n",
       "7           6         2     1946     2024   Golden State Warriors  2024-25  \n",
       "8           2         1     1967     2024         Houston Rockets  2024-25  \n",
       "9           8         3     1970     2024    Los Angeles Clippers  2024-25  \n",
       "10          4         1     1948     2024      Los Angeles Lakers  2024-25  \n",
       "11         10         3     1988     2024              Miami Heat  2024-25  \n",
       "12          6         4     1968     2024         Milwaukee Bucks  2024-25  \n",
       "13          7         3     1989     2024  Minnesota Timberwolves  2024-25  \n",
       "14         12         4     1976     2024           Brooklyn Nets  2024-25  \n",
       "15          3         2     1946     2024         New York Knicks  2024-25  \n",
       "16          8         2     1989     2024           Orlando Magic  2024-25  \n",
       "17          4         2     1976     2024          Indiana Pacers  2024-25  \n",
       "18         13         5     1949     2024      Philadelphia 76ers  2024-25  \n",
       "19         11         5     1968     2024            Phoenix Suns  2024-25  \n",
       "20         12         4     1970     2024  Portland Trail Blazers  2024-25  \n",
       "21         10         4     1948     2024        Sacramento Kings  2024-25  \n",
       "22         13         4     1976     2024       San Antonio Spurs  2024-25  \n",
       "23          1         1     1967     2024   Oklahoma City Thunder  2024-25  \n",
       "24         11         3     1995     2024         Toronto Raptors  2024-25  \n",
       "25         15         5     1974     2024               Utah Jazz  2024-25  \n",
       "26          5         2     1995     2024       Memphis Grizzlies  2024-25  \n",
       "27         15         5     1961     2024      Washington Wizards  2024-25  \n",
       "28          5         3     1948     2024         Detroit Pistons  2024-25  \n",
       "29         14         4     1988     2024       Charlotte Hornets  2024-25  "
      ],
      "text/html": [
       "<div>\n",
       "<style scoped>\n",
       "    .dataframe tbody tr th:only-of-type {\n",
       "        vertical-align: middle;\n",
       "    }\n",
       "\n",
       "    .dataframe tbody tr th {\n",
       "        vertical-align: top;\n",
       "    }\n",
       "\n",
       "    .dataframe thead th {\n",
       "        text-align: right;\n",
       "    }\n",
       "</style>\n",
       "<table border=\"1\" class=\"dataframe\">\n",
       "  <thead>\n",
       "    <tr style=\"text-align: right;\">\n",
       "      <th></th>\n",
       "      <th>TEAM_ID</th>\n",
       "      <th>SEASON_YEAR</th>\n",
       "      <th>TEAM_CITY</th>\n",
       "      <th>TEAM_NAME</th>\n",
       "      <th>TEAM_ABBREVIATION</th>\n",
       "      <th>TEAM_CONFERENCE</th>\n",
       "      <th>TEAM_DIVISION</th>\n",
       "      <th>TEAM_CODE</th>\n",
       "      <th>TEAM_SLUG</th>\n",
       "      <th>W</th>\n",
       "      <th>L</th>\n",
       "      <th>PCT</th>\n",
       "      <th>CONF_RANK</th>\n",
       "      <th>DIV_RANK</th>\n",
       "      <th>MIN_YEAR</th>\n",
       "      <th>MAX_YEAR</th>\n",
       "      <th>TeamName</th>\n",
       "      <th>Season</th>\n",
       "    </tr>\n",
       "  </thead>\n",
       "  <tbody>\n",
       "    <tr>\n",
       "      <th>0</th>\n",
       "      <td>1610612737</td>\n",
       "      <td>2024-25</td>\n",
       "      <td>Atlanta</td>\n",
       "      <td>Hawks</td>\n",
       "      <td>ATL</td>\n",
       "      <td>East</td>\n",
       "      <td>Southeast</td>\n",
       "      <td>hawks</td>\n",
       "      <td>hawks</td>\n",
       "      <td>36</td>\n",
       "      <td>38</td>\n",
       "      <td>0.486</td>\n",
       "      <td>7</td>\n",
       "      <td>1</td>\n",
       "      <td>1949</td>\n",
       "      <td>2024</td>\n",
       "      <td>Atlanta Hawks</td>\n",
       "      <td>2024-25</td>\n",
       "    </tr>\n",
       "    <tr>\n",
       "      <th>1</th>\n",
       "      <td>1610612738</td>\n",
       "      <td>2024-25</td>\n",
       "      <td>Boston</td>\n",
       "      <td>Celtics</td>\n",
       "      <td>BOS</td>\n",
       "      <td>East</td>\n",
       "      <td>Atlantic</td>\n",
       "      <td>celtics</td>\n",
       "      <td>celtics</td>\n",
       "      <td>55</td>\n",
       "      <td>19</td>\n",
       "      <td>0.743</td>\n",
       "      <td>2</td>\n",
       "      <td>1</td>\n",
       "      <td>1946</td>\n",
       "      <td>2024</td>\n",
       "      <td>Boston Celtics</td>\n",
       "      <td>2024-25</td>\n",
       "    </tr>\n",
       "    <tr>\n",
       "      <th>2</th>\n",
       "      <td>1610612739</td>\n",
       "      <td>2024-25</td>\n",
       "      <td>Cleveland</td>\n",
       "      <td>Cavaliers</td>\n",
       "      <td>CLE</td>\n",
       "      <td>East</td>\n",
       "      <td>Central</td>\n",
       "      <td>cavaliers</td>\n",
       "      <td>cavaliers</td>\n",
       "      <td>60</td>\n",
       "      <td>15</td>\n",
       "      <td>0.800</td>\n",
       "      <td>1</td>\n",
       "      <td>1</td>\n",
       "      <td>1970</td>\n",
       "      <td>2024</td>\n",
       "      <td>Cleveland Cavaliers</td>\n",
       "      <td>2024-25</td>\n",
       "    </tr>\n",
       "    <tr>\n",
       "      <th>3</th>\n",
       "      <td>1610612740</td>\n",
       "      <td>2024-25</td>\n",
       "      <td>New Orleans</td>\n",
       "      <td>Pelicans</td>\n",
       "      <td>NOP</td>\n",
       "      <td>West</td>\n",
       "      <td>Southwest</td>\n",
       "      <td>pelicans</td>\n",
       "      <td>pelicans</td>\n",
       "      <td>21</td>\n",
       "      <td>54</td>\n",
       "      <td>0.280</td>\n",
       "      <td>14</td>\n",
       "      <td>5</td>\n",
       "      <td>2002</td>\n",
       "      <td>2024</td>\n",
       "      <td>New Orleans Pelicans</td>\n",
       "      <td>2024-25</td>\n",
       "    </tr>\n",
       "    <tr>\n",
       "      <th>4</th>\n",
       "      <td>1610612741</td>\n",
       "      <td>2024-25</td>\n",
       "      <td>Chicago</td>\n",
       "      <td>Bulls</td>\n",
       "      <td>CHI</td>\n",
       "      <td>East</td>\n",
       "      <td>Central</td>\n",
       "      <td>bulls</td>\n",
       "      <td>bulls</td>\n",
       "      <td>33</td>\n",
       "      <td>41</td>\n",
       "      <td>0.446</td>\n",
       "      <td>9</td>\n",
       "      <td>5</td>\n",
       "      <td>1966</td>\n",
       "      <td>2024</td>\n",
       "      <td>Chicago Bulls</td>\n",
       "      <td>2024-25</td>\n",
       "    </tr>\n",
       "    <tr>\n",
       "      <th>5</th>\n",
       "      <td>1610612742</td>\n",
       "      <td>2024-25</td>\n",
       "      <td>Dallas</td>\n",
       "      <td>Mavericks</td>\n",
       "      <td>DAL</td>\n",
       "      <td>West</td>\n",
       "      <td>Southwest</td>\n",
       "      <td>mavericks</td>\n",
       "      <td>mavericks</td>\n",
       "      <td>37</td>\n",
       "      <td>38</td>\n",
       "      <td>0.493</td>\n",
       "      <td>9</td>\n",
       "      <td>3</td>\n",
       "      <td>1980</td>\n",
       "      <td>2024</td>\n",
       "      <td>Dallas Mavericks</td>\n",
       "      <td>2024-25</td>\n",
       "    </tr>\n",
       "    <tr>\n",
       "      <th>6</th>\n",
       "      <td>1610612743</td>\n",
       "      <td>2024-25</td>\n",
       "      <td>Denver</td>\n",
       "      <td>Nuggets</td>\n",
       "      <td>DEN</td>\n",
       "      <td>West</td>\n",
       "      <td>Northwest</td>\n",
       "      <td>nuggets</td>\n",
       "      <td>nuggets</td>\n",
       "      <td>47</td>\n",
       "      <td>28</td>\n",
       "      <td>0.627</td>\n",
       "      <td>3</td>\n",
       "      <td>2</td>\n",
       "      <td>1976</td>\n",
       "      <td>2024</td>\n",
       "      <td>Denver Nuggets</td>\n",
       "      <td>2024-25</td>\n",
       "    </tr>\n",
       "    <tr>\n",
       "      <th>7</th>\n",
       "      <td>1610612744</td>\n",
       "      <td>2024-25</td>\n",
       "      <td>Golden State</td>\n",
       "      <td>Warriors</td>\n",
       "      <td>GSW</td>\n",
       "      <td>West</td>\n",
       "      <td>Pacific</td>\n",
       "      <td>warriors</td>\n",
       "      <td>warriors</td>\n",
       "      <td>43</td>\n",
       "      <td>31</td>\n",
       "      <td>0.581</td>\n",
       "      <td>6</td>\n",
       "      <td>2</td>\n",
       "      <td>1946</td>\n",
       "      <td>2024</td>\n",
       "      <td>Golden State Warriors</td>\n",
       "      <td>2024-25</td>\n",
       "    </tr>\n",
       "    <tr>\n",
       "      <th>8</th>\n",
       "      <td>1610612745</td>\n",
       "      <td>2024-25</td>\n",
       "      <td>Houston</td>\n",
       "      <td>Rockets</td>\n",
       "      <td>HOU</td>\n",
       "      <td>West</td>\n",
       "      <td>Southwest</td>\n",
       "      <td>rockets</td>\n",
       "      <td>rockets</td>\n",
       "      <td>49</td>\n",
       "      <td>26</td>\n",
       "      <td>0.653</td>\n",
       "      <td>2</td>\n",
       "      <td>1</td>\n",
       "      <td>1967</td>\n",
       "      <td>2024</td>\n",
       "      <td>Houston Rockets</td>\n",
       "      <td>2024-25</td>\n",
       "    </tr>\n",
       "    <tr>\n",
       "      <th>9</th>\n",
       "      <td>1610612746</td>\n",
       "      <td>2024-25</td>\n",
       "      <td>LA</td>\n",
       "      <td>Clippers</td>\n",
       "      <td>LAC</td>\n",
       "      <td>West</td>\n",
       "      <td>Pacific</td>\n",
       "      <td>clippers</td>\n",
       "      <td>clippers</td>\n",
       "      <td>42</td>\n",
       "      <td>32</td>\n",
       "      <td>0.568</td>\n",
       "      <td>8</td>\n",
       "      <td>3</td>\n",
       "      <td>1970</td>\n",
       "      <td>2024</td>\n",
       "      <td>Los Angeles Clippers</td>\n",
       "      <td>2024-25</td>\n",
       "    </tr>\n",
       "    <tr>\n",
       "      <th>10</th>\n",
       "      <td>1610612747</td>\n",
       "      <td>2024-25</td>\n",
       "      <td>Los Angeles</td>\n",
       "      <td>Lakers</td>\n",
       "      <td>LAL</td>\n",
       "      <td>West</td>\n",
       "      <td>Pacific</td>\n",
       "      <td>lakers</td>\n",
       "      <td>lakers</td>\n",
       "      <td>45</td>\n",
       "      <td>29</td>\n",
       "      <td>0.608</td>\n",
       "      <td>4</td>\n",
       "      <td>1</td>\n",
       "      <td>1948</td>\n",
       "      <td>2024</td>\n",
       "      <td>Los Angeles Lakers</td>\n",
       "      <td>2024-25</td>\n",
       "    </tr>\n",
       "    <tr>\n",
       "      <th>11</th>\n",
       "      <td>1610612748</td>\n",
       "      <td>2024-25</td>\n",
       "      <td>Miami</td>\n",
       "      <td>Heat</td>\n",
       "      <td>MIA</td>\n",
       "      <td>East</td>\n",
       "      <td>Southeast</td>\n",
       "      <td>heat</td>\n",
       "      <td>heat</td>\n",
       "      <td>33</td>\n",
       "      <td>41</td>\n",
       "      <td>0.446</td>\n",
       "      <td>10</td>\n",
       "      <td>3</td>\n",
       "      <td>1988</td>\n",
       "      <td>2024</td>\n",
       "      <td>Miami Heat</td>\n",
       "      <td>2024-25</td>\n",
       "    </tr>\n",
       "    <tr>\n",
       "      <th>12</th>\n",
       "      <td>1610612749</td>\n",
       "      <td>2024-25</td>\n",
       "      <td>Milwaukee</td>\n",
       "      <td>Bucks</td>\n",
       "      <td>MIL</td>\n",
       "      <td>East</td>\n",
       "      <td>Central</td>\n",
       "      <td>bucks</td>\n",
       "      <td>bucks</td>\n",
       "      <td>40</td>\n",
       "      <td>34</td>\n",
       "      <td>0.541</td>\n",
       "      <td>6</td>\n",
       "      <td>4</td>\n",
       "      <td>1968</td>\n",
       "      <td>2024</td>\n",
       "      <td>Milwaukee Bucks</td>\n",
       "      <td>2024-25</td>\n",
       "    </tr>\n",
       "    <tr>\n",
       "      <th>13</th>\n",
       "      <td>1610612750</td>\n",
       "      <td>2024-25</td>\n",
       "      <td>Minnesota</td>\n",
       "      <td>Timberwolves</td>\n",
       "      <td>MIN</td>\n",
       "      <td>West</td>\n",
       "      <td>Northwest</td>\n",
       "      <td>timberwolves</td>\n",
       "      <td>timberwolves</td>\n",
       "      <td>43</td>\n",
       "      <td>32</td>\n",
       "      <td>0.573</td>\n",
       "      <td>7</td>\n",
       "      <td>3</td>\n",
       "      <td>1989</td>\n",
       "      <td>2024</td>\n",
       "      <td>Minnesota Timberwolves</td>\n",
       "      <td>2024-25</td>\n",
       "    </tr>\n",
       "    <tr>\n",
       "      <th>14</th>\n",
       "      <td>1610612751</td>\n",
       "      <td>2024-25</td>\n",
       "      <td>Brooklyn</td>\n",
       "      <td>Nets</td>\n",
       "      <td>BKN</td>\n",
       "      <td>East</td>\n",
       "      <td>Atlantic</td>\n",
       "      <td>nets</td>\n",
       "      <td>nets</td>\n",
       "      <td>24</td>\n",
       "      <td>51</td>\n",
       "      <td>0.320</td>\n",
       "      <td>12</td>\n",
       "      <td>4</td>\n",
       "      <td>1976</td>\n",
       "      <td>2024</td>\n",
       "      <td>Brooklyn Nets</td>\n",
       "      <td>2024-25</td>\n",
       "    </tr>\n",
       "    <tr>\n",
       "      <th>15</th>\n",
       "      <td>1610612752</td>\n",
       "      <td>2024-25</td>\n",
       "      <td>New York</td>\n",
       "      <td>Knicks</td>\n",
       "      <td>NYK</td>\n",
       "      <td>East</td>\n",
       "      <td>Atlantic</td>\n",
       "      <td>knicks</td>\n",
       "      <td>knicks</td>\n",
       "      <td>47</td>\n",
       "      <td>27</td>\n",
       "      <td>0.635</td>\n",
       "      <td>3</td>\n",
       "      <td>2</td>\n",
       "      <td>1946</td>\n",
       "      <td>2024</td>\n",
       "      <td>New York Knicks</td>\n",
       "      <td>2024-25</td>\n",
       "    </tr>\n",
       "    <tr>\n",
       "      <th>16</th>\n",
       "      <td>1610612753</td>\n",
       "      <td>2024-25</td>\n",
       "      <td>Orlando</td>\n",
       "      <td>Magic</td>\n",
       "      <td>ORL</td>\n",
       "      <td>East</td>\n",
       "      <td>Southeast</td>\n",
       "      <td>magic</td>\n",
       "      <td>magic</td>\n",
       "      <td>36</td>\n",
       "      <td>39</td>\n",
       "      <td>0.480</td>\n",
       "      <td>8</td>\n",
       "      <td>2</td>\n",
       "      <td>1989</td>\n",
       "      <td>2024</td>\n",
       "      <td>Orlando Magic</td>\n",
       "      <td>2024-25</td>\n",
       "    </tr>\n",
       "    <tr>\n",
       "      <th>17</th>\n",
       "      <td>1610612754</td>\n",
       "      <td>2024-25</td>\n",
       "      <td>Indiana</td>\n",
       "      <td>Pacers</td>\n",
       "      <td>IND</td>\n",
       "      <td>East</td>\n",
       "      <td>Central</td>\n",
       "      <td>pacers</td>\n",
       "      <td>pacers</td>\n",
       "      <td>43</td>\n",
       "      <td>31</td>\n",
       "      <td>0.581</td>\n",
       "      <td>4</td>\n",
       "      <td>2</td>\n",
       "      <td>1976</td>\n",
       "      <td>2024</td>\n",
       "      <td>Indiana Pacers</td>\n",
       "      <td>2024-25</td>\n",
       "    </tr>\n",
       "    <tr>\n",
       "      <th>18</th>\n",
       "      <td>1610612755</td>\n",
       "      <td>2024-25</td>\n",
       "      <td>Philadelphia</td>\n",
       "      <td>76ers</td>\n",
       "      <td>PHI</td>\n",
       "      <td>East</td>\n",
       "      <td>Atlantic</td>\n",
       "      <td>sixers</td>\n",
       "      <td>sixers</td>\n",
       "      <td>23</td>\n",
       "      <td>52</td>\n",
       "      <td>0.307</td>\n",
       "      <td>13</td>\n",
       "      <td>5</td>\n",
       "      <td>1949</td>\n",
       "      <td>2024</td>\n",
       "      <td>Philadelphia 76ers</td>\n",
       "      <td>2024-25</td>\n",
       "    </tr>\n",
       "    <tr>\n",
       "      <th>19</th>\n",
       "      <td>1610612756</td>\n",
       "      <td>2024-25</td>\n",
       "      <td>Phoenix</td>\n",
       "      <td>Suns</td>\n",
       "      <td>PHX</td>\n",
       "      <td>West</td>\n",
       "      <td>Pacific</td>\n",
       "      <td>suns</td>\n",
       "      <td>suns</td>\n",
       "      <td>35</td>\n",
       "      <td>40</td>\n",
       "      <td>0.467</td>\n",
       "      <td>11</td>\n",
       "      <td>5</td>\n",
       "      <td>1968</td>\n",
       "      <td>2024</td>\n",
       "      <td>Phoenix Suns</td>\n",
       "      <td>2024-25</td>\n",
       "    </tr>\n",
       "    <tr>\n",
       "      <th>20</th>\n",
       "      <td>1610612757</td>\n",
       "      <td>2024-25</td>\n",
       "      <td>Portland</td>\n",
       "      <td>Trail Blazers</td>\n",
       "      <td>POR</td>\n",
       "      <td>West</td>\n",
       "      <td>Northwest</td>\n",
       "      <td>blazers</td>\n",
       "      <td>blazers</td>\n",
       "      <td>32</td>\n",
       "      <td>43</td>\n",
       "      <td>0.427</td>\n",
       "      <td>12</td>\n",
       "      <td>4</td>\n",
       "      <td>1970</td>\n",
       "      <td>2024</td>\n",
       "      <td>Portland Trail Blazers</td>\n",
       "      <td>2024-25</td>\n",
       "    </tr>\n",
       "    <tr>\n",
       "      <th>21</th>\n",
       "      <td>1610612758</td>\n",
       "      <td>2024-25</td>\n",
       "      <td>Sacramento</td>\n",
       "      <td>Kings</td>\n",
       "      <td>SAC</td>\n",
       "      <td>West</td>\n",
       "      <td>Pacific</td>\n",
       "      <td>kings</td>\n",
       "      <td>kings</td>\n",
       "      <td>36</td>\n",
       "      <td>38</td>\n",
       "      <td>0.486</td>\n",
       "      <td>10</td>\n",
       "      <td>4</td>\n",
       "      <td>1948</td>\n",
       "      <td>2024</td>\n",
       "      <td>Sacramento Kings</td>\n",
       "      <td>2024-25</td>\n",
       "    </tr>\n",
       "    <tr>\n",
       "      <th>22</th>\n",
       "      <td>1610612759</td>\n",
       "      <td>2024-25</td>\n",
       "      <td>San Antonio</td>\n",
       "      <td>Spurs</td>\n",
       "      <td>SAS</td>\n",
       "      <td>West</td>\n",
       "      <td>Southwest</td>\n",
       "      <td>spurs</td>\n",
       "      <td>spurs</td>\n",
       "      <td>31</td>\n",
       "      <td>43</td>\n",
       "      <td>0.419</td>\n",
       "      <td>13</td>\n",
       "      <td>4</td>\n",
       "      <td>1976</td>\n",
       "      <td>2024</td>\n",
       "      <td>San Antonio Spurs</td>\n",
       "      <td>2024-25</td>\n",
       "    </tr>\n",
       "    <tr>\n",
       "      <th>23</th>\n",
       "      <td>1610612760</td>\n",
       "      <td>2024-25</td>\n",
       "      <td>Oklahoma City</td>\n",
       "      <td>Thunder</td>\n",
       "      <td>OKC</td>\n",
       "      <td>West</td>\n",
       "      <td>Northwest</td>\n",
       "      <td>thunder</td>\n",
       "      <td>thunder</td>\n",
       "      <td>62</td>\n",
       "      <td>12</td>\n",
       "      <td>0.838</td>\n",
       "      <td>1</td>\n",
       "      <td>1</td>\n",
       "      <td>1967</td>\n",
       "      <td>2024</td>\n",
       "      <td>Oklahoma City Thunder</td>\n",
       "      <td>2024-25</td>\n",
       "    </tr>\n",
       "    <tr>\n",
       "      <th>24</th>\n",
       "      <td>1610612761</td>\n",
       "      <td>2024-25</td>\n",
       "      <td>Toronto</td>\n",
       "      <td>Raptors</td>\n",
       "      <td>TOR</td>\n",
       "      <td>East</td>\n",
       "      <td>Atlantic</td>\n",
       "      <td>raptors</td>\n",
       "      <td>raptors</td>\n",
       "      <td>28</td>\n",
       "      <td>47</td>\n",
       "      <td>0.373</td>\n",
       "      <td>11</td>\n",
       "      <td>3</td>\n",
       "      <td>1995</td>\n",
       "      <td>2024</td>\n",
       "      <td>Toronto Raptors</td>\n",
       "      <td>2024-25</td>\n",
       "    </tr>\n",
       "    <tr>\n",
       "      <th>25</th>\n",
       "      <td>1610612762</td>\n",
       "      <td>2024-25</td>\n",
       "      <td>Utah</td>\n",
       "      <td>Jazz</td>\n",
       "      <td>UTA</td>\n",
       "      <td>West</td>\n",
       "      <td>Northwest</td>\n",
       "      <td>jazz</td>\n",
       "      <td>jazz</td>\n",
       "      <td>16</td>\n",
       "      <td>59</td>\n",
       "      <td>0.213</td>\n",
       "      <td>15</td>\n",
       "      <td>5</td>\n",
       "      <td>1974</td>\n",
       "      <td>2024</td>\n",
       "      <td>Utah Jazz</td>\n",
       "      <td>2024-25</td>\n",
       "    </tr>\n",
       "    <tr>\n",
       "      <th>26</th>\n",
       "      <td>1610612763</td>\n",
       "      <td>2024-25</td>\n",
       "      <td>Memphis</td>\n",
       "      <td>Grizzlies</td>\n",
       "      <td>MEM</td>\n",
       "      <td>West</td>\n",
       "      <td>Southwest</td>\n",
       "      <td>grizzlies</td>\n",
       "      <td>grizzlies</td>\n",
       "      <td>44</td>\n",
       "      <td>30</td>\n",
       "      <td>0.595</td>\n",
       "      <td>5</td>\n",
       "      <td>2</td>\n",
       "      <td>1995</td>\n",
       "      <td>2024</td>\n",
       "      <td>Memphis Grizzlies</td>\n",
       "      <td>2024-25</td>\n",
       "    </tr>\n",
       "    <tr>\n",
       "      <th>27</th>\n",
       "      <td>1610612764</td>\n",
       "      <td>2024-25</td>\n",
       "      <td>Washington</td>\n",
       "      <td>Wizards</td>\n",
       "      <td>WAS</td>\n",
       "      <td>East</td>\n",
       "      <td>Southeast</td>\n",
       "      <td>wizards</td>\n",
       "      <td>wizards</td>\n",
       "      <td>16</td>\n",
       "      <td>58</td>\n",
       "      <td>0.216</td>\n",
       "      <td>15</td>\n",
       "      <td>5</td>\n",
       "      <td>1961</td>\n",
       "      <td>2024</td>\n",
       "      <td>Washington Wizards</td>\n",
       "      <td>2024-25</td>\n",
       "    </tr>\n",
       "    <tr>\n",
       "      <th>28</th>\n",
       "      <td>1610612765</td>\n",
       "      <td>2024-25</td>\n",
       "      <td>Detroit</td>\n",
       "      <td>Pistons</td>\n",
       "      <td>DET</td>\n",
       "      <td>East</td>\n",
       "      <td>Central</td>\n",
       "      <td>pistons</td>\n",
       "      <td>pistons</td>\n",
       "      <td>42</td>\n",
       "      <td>33</td>\n",
       "      <td>0.560</td>\n",
       "      <td>5</td>\n",
       "      <td>3</td>\n",
       "      <td>1948</td>\n",
       "      <td>2024</td>\n",
       "      <td>Detroit Pistons</td>\n",
       "      <td>2024-25</td>\n",
       "    </tr>\n",
       "    <tr>\n",
       "      <th>29</th>\n",
       "      <td>1610612766</td>\n",
       "      <td>2024-25</td>\n",
       "      <td>Charlotte</td>\n",
       "      <td>Hornets</td>\n",
       "      <td>CHA</td>\n",
       "      <td>East</td>\n",
       "      <td>Southeast</td>\n",
       "      <td>hornets</td>\n",
       "      <td>hornets</td>\n",
       "      <td>18</td>\n",
       "      <td>56</td>\n",
       "      <td>0.243</td>\n",
       "      <td>14</td>\n",
       "      <td>4</td>\n",
       "      <td>1988</td>\n",
       "      <td>2024</td>\n",
       "      <td>Charlotte Hornets</td>\n",
       "      <td>2024-25</td>\n",
       "    </tr>\n",
       "  </tbody>\n",
       "</table>\n",
       "</div>"
      ]
     },
     "execution_count": 23,
     "metadata": {},
     "output_type": "execute_result"
    }
   ],
   "execution_count": 23
  },
  {
   "metadata": {
    "ExecuteTime": {
     "end_time": "2025-03-31T03:52:32.981092Z",
     "start_time": "2025-03-31T03:52:32.975087Z"
    }
   },
   "cell_type": "code",
   "source": [
    "# Coletando da API informações sobre os jogadores da NBA\n",
    "from nba_api.stats.static import players\n",
    "player_dict = players.get_players()"
   ],
   "id": "3effa46cf5b28825",
   "outputs": [],
   "execution_count": 24
  },
  {
   "metadata": {
    "ExecuteTime": {
     "end_time": "2025-03-31T03:52:33.028845Z",
     "start_time": "2025-03-31T03:52:33.022665Z"
    }
   },
   "cell_type": "code",
   "source": [
    "# Coletando informações sobre o jogador\n",
    "nj = [player for player in player_dict if player['full_name'] == 'Nikola Jokić'][0]\n",
    "nj_id = nj['id']\n",
    "nj"
   ],
   "id": "5335952c00e89947",
   "outputs": [
    {
     "data": {
      "text/plain": [
       "{'id': 203999,\n",
       " 'full_name': 'Nikola Jokić',\n",
       " 'first_name': 'Nikola',\n",
       " 'last_name': 'Jokić',\n",
       " 'is_active': True}"
      ]
     },
     "execution_count": 25,
     "metadata": {},
     "output_type": "execute_result"
    }
   ],
   "execution_count": 25
  },
  {
   "metadata": {
    "ExecuteTime": {
     "end_time": "2025-03-31T03:52:33.186613Z",
     "start_time": "2025-03-31T03:52:33.085895Z"
    }
   },
   "cell_type": "code",
   "source": [
    "# Importando dados da API\n",
    "from nba_api.stats.endpoints import playergamelog\n",
    "\n",
    "# Coletando os dados do jogador via api\n",
    "gamelog_jokic = playergamelog.PlayerGameLog(player_id='203999', season = '2024')\n",
    "df_jokic_games_2024= gamelog_jokic.get_data_frames()"
   ],
   "id": "ddc87d06a3cdddfe",
   "outputs": [],
   "execution_count": 26
  },
  {
   "metadata": {
    "ExecuteTime": {
     "end_time": "2025-03-31T03:53:42.157502Z",
     "start_time": "2025-03-31T03:53:42.149865Z"
    }
   },
   "cell_type": "code",
   "source": [
    "# Extraindo o DataFrame da lista\n",
    "df_jokic_games_2024_df = df_jokic_games_2024[0]\n",
    "\n",
    "# Selecionando as colunas desejadas\n",
    "selected_columns = ['MATCHUP', 'WL', 'MIN', 'FTM','FTA', 'FGM', 'FGA', 'PTS', 'REB', 'AST', 'PLUS_MINUS']\n",
    "df_jokic = df_jokic_games_2024_df[selected_columns]\n",
    "\n",
    "# Exibindo as primeiras linhas do DataFrame filtrado\n",
    "print(df_jokic.head(20))"
   ],
   "id": "7baa8152546b4687",
   "outputs": [
    {
     "name": "stdout",
     "output_type": "stream",
     "text": [
      "        MATCHUP WL  MIN  FTM  FTA  FGM  FGA  PTS  REB  AST  PLUS_MINUS\n",
      "0   DEN vs. UTA  W   32   10   12    8   18   27   14    6          28\n",
      "1   DEN vs. MIL  W   38    4    7   16   25   39   10   10          14\n",
      "2   DEN vs. WAS  L   39    7    7   16   30   40   13    9           6\n",
      "3   DEN vs. LAL  W   38   12   17    8   16   28    7    5           2\n",
      "4   DEN vs. MIN  L   38    6    8   13   23   34    8    4         -24\n",
      "5     DEN @ OKC  W   40    4    5   15   20   35   18    8           8\n",
      "6     DEN @ OKC  L   41    2    6   10   23   24   13    9         -13\n",
      "7   DEN vs. PHX  W   45    2    3   13   22   31   21   22           8\n",
      "8   DEN vs. SAC  W   38    4    6    9   18   22   15    6          -7\n",
      "9     DEN @ BOS  L   39    0    0    9   15   20   14    9           0\n",
      "10    DEN @ DET  W   34   11   12    6   12   23   17   15          33\n",
      "11    DEN @ MIL  L   38    5    7   13   16   32   14   10          -5\n",
      "12    DEN @ IND  W   39    0    0    9   14   18    9   19          17\n",
      "13  DEN vs. LAL  L   35    8   10    2    7   12   13   10         -11\n",
      "14  DEN vs. CHA  W   37    1    2   11   22   29   17    9          14\n",
      "15  DEN vs. POR  W   36    4    4   11   20   26   15   10           6\n",
      "16  DEN vs. POR  W   31    8    8   15   22   40    7    8          22\n",
      "17    DEN @ PHX  W   29    3    3   11   13   26   11    9          19\n",
      "18  DEN vs. ORL  W   31    4    6   11   16   28   10   12          22\n",
      "19  DEN vs. NOP  W   36    3    3   15   28   38    8   10          24\n"
     ]
    }
   ],
   "execution_count": 45
  },
  {
   "metadata": {
    "ExecuteTime": {
     "end_time": "2025-03-31T03:53:58.757668Z",
     "start_time": "2025-03-31T03:53:58.751556Z"
    }
   },
   "cell_type": "code",
   "source": [
    "# Exibindo a média das colunas selecionadas\n",
    "average_stats_jokic = df_jokic[['MIN','FTM','FTA', 'FGM', 'FGA', 'PTS', 'REB', 'AST', 'PLUS_MINUS']].mean(numeric_only=True).round(1)\n",
    "print(average_stats_jokic)"
   ],
   "id": "80721b06b26df1dc",
   "outputs": [
    {
     "name": "stdout",
     "output_type": "stream",
     "text": [
      "MIN           36.5\n",
      "FTM            5.0\n",
      "FTA            6.3\n",
      "FGM           11.2\n",
      "FGA           19.4\n",
      "PTS           29.2\n",
      "REB           12.8\n",
      "AST           10.2\n",
      "PLUS_MINUS     8.5\n",
      "dtype: float64\n"
     ]
    }
   ],
   "execution_count": 46
  },
  {
   "metadata": {
    "ExecuteTime": {
     "end_time": "2025-03-31T03:52:33.292036Z",
     "start_time": "2025-03-31T03:52:33.285595Z"
    }
   },
   "cell_type": "code",
   "source": [
    "# Salvando o DataFrame em CSV\n",
    "df_jokic.to_csv('jokic_games_2024.csv', index=False)"
   ],
   "id": "8156e0294d589dd1",
   "outputs": [],
   "execution_count": 29
  },
  {
   "metadata": {
    "ExecuteTime": {
     "end_time": "2025-03-31T03:52:33.320479Z",
     "start_time": "2025-03-31T03:52:33.314474Z"
    }
   },
   "cell_type": "code",
   "source": [
    "# Coletando informações sobre o jogador\n",
    "jt = [player for player in player_dict if player['full_name'] == 'Jayson Tatum'][0]\n",
    "jt_id = jt['id']\n",
    "jt"
   ],
   "id": "f76048bb922abc9e",
   "outputs": [
    {
     "data": {
      "text/plain": [
       "{'id': 1628369,\n",
       " 'full_name': 'Jayson Tatum',\n",
       " 'first_name': 'Jayson',\n",
       " 'last_name': 'Tatum',\n",
       " 'is_active': True}"
      ]
     },
     "execution_count": 30,
     "metadata": {},
     "output_type": "execute_result"
    }
   ],
   "execution_count": 30
  },
  {
   "metadata": {
    "ExecuteTime": {
     "end_time": "2025-03-31T03:52:33.795692Z",
     "start_time": "2025-03-31T03:52:33.343309Z"
    }
   },
   "cell_type": "code",
   "source": [
    "# Coletando os dados do jogador via api\n",
    "gamelog_tatum = playergamelog.PlayerGameLog(player_id='1628369', season = '2024')\n",
    "df_tatum_games_2024= gamelog_tatum.get_data_frames()"
   ],
   "id": "420dc6cc771029a4",
   "outputs": [],
   "execution_count": 31
  },
  {
   "metadata": {
    "ExecuteTime": {
     "end_time": "2025-03-31T03:52:33.825853Z",
     "start_time": "2025-03-31T03:52:33.818361Z"
    }
   },
   "cell_type": "code",
   "source": [
    "# Extraindo o DataFrame da lista\n",
    "df_tatum_games_2024_df = df_tatum_games_2024[0]\n",
    "\n",
    "# Exibindo o DataFrame\n",
    "print(df_tatum_games_2024_df.head(20))"
   ],
   "id": "d2aceb7a337cf7ac",
   "outputs": [
    {
     "name": "stdout",
     "output_type": "stream",
     "text": [
      "   SEASON_ID  Player_ID     Game_ID     GAME_DATE      MATCHUP WL  MIN  FGM  \\\n",
      "0      22024    1628369  0022401080  MAR 29, 2025    BOS @ SAS  W   36   10   \n",
      "1      22024    1628369  0022401044  MAR 24, 2025    BOS @ SAC  W   26    8   \n",
      "2      22024    1628369  0022401034  MAR 23, 2025    BOS @ POR  W   37   11   \n",
      "3      22024    1628369  0022401020  MAR 21, 2025    BOS @ UTA  W   33   11   \n",
      "4      22024    1628369  0022400968  MAR 15, 2025    BOS @ BKN  W   36    8   \n",
      "5      22024    1628369  0022400958  MAR 14, 2025    BOS @ MIA  W   37    8   \n",
      "6      22024    1628369  0022400946  MAR 12, 2025  BOS vs. OKC  L   41   12   \n",
      "7      22024    1628369  0022400918  MAR 08, 2025  BOS vs. LAL  W   45   12   \n",
      "8      22024    1628369  0022400900  MAR 06, 2025  BOS vs. PHI  W   31   14   \n",
      "9      22024    1628369  0022400866  MAR 02, 2025  BOS vs. DEN  W   38    4   \n",
      "10     22024    1628369  0022400852  FEB 28, 2025  BOS vs. CLE  L   41   19   \n",
      "11     22024    1628369  0022400836  FEB 26, 2025    BOS @ DET  L   33   10   \n",
      "12     22024    1628369  0022400829  FEB 25, 2025    BOS @ TOR  W   40    7   \n",
      "13     22024    1628369  0022400811  FEB 23, 2025  BOS vs. NYK  W   37    8   \n",
      "14     22024    1628369  0022400789  FEB 20, 2025    BOS @ PHI  W   35    5   \n",
      "15     22024    1628369  0022400769  FEB 12, 2025  BOS vs. SAS  W   38   12   \n",
      "16     22024    1628369  0022400759  FEB 10, 2025    BOS @ MIA  W   38   13   \n",
      "17     22024    1628369  0022400748  FEB 08, 2025    BOS @ NYK  W   37   13   \n",
      "18     22024    1628369  0022400728  FEB 06, 2025  BOS vs. DAL  L   29    5   \n",
      "19     22024    1628369  0022400710  FEB 04, 2025    BOS @ CLE  W   35    7   \n",
      "\n",
      "    FGA  FG_PCT  ...  DREB  REB  AST  STL  BLK  TOV  PF  PTS  PLUS_MINUS  \\\n",
      "0    22   0.455  ...     9   10    8    0    1    1   1   29           9   \n",
      "1    15   0.533  ...     7    7    8    0    0    3   1   25          13   \n",
      "2    24   0.458  ...     7    9    9    1    2    3   2   30          16   \n",
      "3    25   0.440  ...     6    6    6    3    0    6   1   26          18   \n",
      "4    19   0.421  ...     8    8    8    0    0    2   3   20         -15   \n",
      "5    21   0.381  ...     4    4    5    1    0    5   2   28          10   \n",
      "6    23   0.522  ...     6    8    8    0    0    4   2   33           4   \n",
      "7    28   0.429  ...    11   12    8    2    1    3   3   40          12   \n",
      "8    23   0.609  ...     6    7    2    3    0    4   2   35          19   \n",
      "9    15   0.267  ...    11   11    7    0    0    6   5   16          -2   \n",
      "10   37   0.514  ...    11   16    9    0    3    3   4   46           5   \n",
      "11   19   0.526  ...     5    6    3    0    0    4   1   27         -11   \n",
      "12   18   0.389  ...     5    6   11    1    0    6   2   19          20   \n",
      "13   20   0.400  ...    10   10    9    1    0    3   3   25          12   \n",
      "14   13   0.385  ...    11   11   10    1    0    3   1   15          19   \n",
      "15   25   0.480  ...    13   14    7    0    1    2   3   32          12   \n",
      "16   26   0.500  ...     8    8    2    0    1    0   1   33           6   \n",
      "17   26   0.500  ...     6    6    4    0    0    1   1   40          18   \n",
      "18   12   0.417  ...     2    4    4    0    1    4   2   17         -22   \n",
      "19   23   0.304  ...     4    4    7    2    2    1   0   22           1   \n",
      "\n",
      "    VIDEO_AVAILABLE  \n",
      "0                 1  \n",
      "1                 1  \n",
      "2                 1  \n",
      "3                 1  \n",
      "4                 1  \n",
      "5                 1  \n",
      "6                 1  \n",
      "7                 1  \n",
      "8                 1  \n",
      "9                 1  \n",
      "10                1  \n",
      "11                1  \n",
      "12                1  \n",
      "13                1  \n",
      "14                1  \n",
      "15                1  \n",
      "16                1  \n",
      "17                1  \n",
      "18                1  \n",
      "19                1  \n",
      "\n",
      "[20 rows x 27 columns]\n"
     ]
    }
   ],
   "execution_count": 32
  },
  {
   "metadata": {
    "ExecuteTime": {
     "end_time": "2025-03-31T03:54:19.318984Z",
     "start_time": "2025-03-31T03:54:19.311717Z"
    }
   },
   "cell_type": "code",
   "source": [
    "# Selecionando as colunas desejadas\n",
    "selected_columns = ['MATCHUP', 'WL', 'MIN', 'FTM','FTA', 'FGM', 'FGA', 'PTS', 'REB', 'AST', 'PLUS_MINUS']\n",
    "df_tatum = df_tatum_games_2024_df[selected_columns]\n",
    "\n",
    "# Exibindo as primeiras linhas do DataFrame filtrado\n",
    "print(df_tatum.head(20))"
   ],
   "id": "93919935cbf4a211",
   "outputs": [
    {
     "name": "stdout",
     "output_type": "stream",
     "text": [
      "        MATCHUP WL  MIN  FTM  FTA  FGM  FGA  PTS  REB  AST  PLUS_MINUS\n",
      "0     BOS @ SAS  W   36    7    7   10   22   29   10    8           9\n",
      "1     BOS @ SAC  W   26    4    8    8   15   25    7    8          13\n",
      "2     BOS @ POR  W   37    7    7   11   24   30    9    9          16\n",
      "3     BOS @ UTA  W   33    1    1   11   25   26    6    6          18\n",
      "4     BOS @ BKN  W   36    3    3    8   19   20    8    8         -15\n",
      "5     BOS @ MIA  W   37    7    7    8   21   28    4    5          10\n",
      "6   BOS vs. OKC  L   41    5    5   12   23   33    8    8           4\n",
      "7   BOS vs. LAL  W   45   10   12   12   28   40   12    8          12\n",
      "8   BOS vs. PHI  W   31    2    2   14   23   35    7    2          19\n",
      "9   BOS vs. DEN  W   38    7    8    4   15   16   11    7          -2\n",
      "10  BOS vs. CLE  L   41    4    5   19   37   46   16    9           5\n",
      "11    BOS @ DET  L   33    3    4   10   19   27    6    3         -11\n",
      "12    BOS @ TOR  W   40    2    2    7   18   19    6   11          20\n",
      "13  BOS vs. NYK  W   37    6    6    8   20   25   10    9          12\n",
      "14    BOS @ PHI  W   35    3    3    5   13   15   11   10          19\n",
      "15  BOS vs. SAS  W   38    4    8   12   25   32   14    7          12\n",
      "16    BOS @ MIA  W   38    3    3   13   26   33    8    2           6\n",
      "17    BOS @ NYK  W   37    7    9   13   26   40    6    4          18\n",
      "18  BOS vs. DAL  L   29    4    5    5   12   17    4    4         -22\n",
      "19    BOS @ CLE  W   35    5    6    7   23   22    4    7           1\n"
     ]
    }
   ],
   "execution_count": 47
  },
  {
   "metadata": {
    "ExecuteTime": {
     "end_time": "2025-03-31T03:54:32.466592Z",
     "start_time": "2025-03-31T03:54:32.461311Z"
    }
   },
   "cell_type": "code",
   "source": [
    "# Exibindo a média das colunas selecionadas\n",
    "average_stats_tatum = df_tatum[['MATCHUP', 'WL', 'MIN', 'FTM','FTA', 'FGM', 'FGA', 'PTS', 'REB', 'AST', 'PLUS_MINUS']].mean(numeric_only=True).round(1)\n",
    "print(average_stats_tatum)"
   ],
   "id": "aeccbf2ee5513d38",
   "outputs": [
    {
     "name": "stdout",
     "output_type": "stream",
     "text": [
      "MIN           36.4\n",
      "FTM            5.0\n",
      "FTA            6.2\n",
      "FGM            9.3\n",
      "FGA           20.4\n",
      "PTS           27.2\n",
      "REB            8.7\n",
      "AST            6.0\n",
      "PLUS_MINUS     7.4\n",
      "dtype: float64\n"
     ]
    }
   ],
   "execution_count": 48
  },
  {
   "metadata": {
    "ExecuteTime": {
     "end_time": "2025-03-31T03:52:33.921414Z",
     "start_time": "2025-03-31T03:52:33.916908Z"
    }
   },
   "cell_type": "code",
   "source": [
    "# Salvando o DataFrame em CSV\n",
    "df_tatum.to_csv('tatum_games_2024.csv', index=False)"
   ],
   "id": "db202e8ff17dbdb1",
   "outputs": [],
   "execution_count": 35
  },
  {
   "metadata": {
    "ExecuteTime": {
     "end_time": "2025-03-31T03:52:33.953478Z",
     "start_time": "2025-03-31T03:52:33.948383Z"
    }
   },
   "cell_type": "code",
   "source": [
    "# Coletando informações sobre o jogador\n",
    "ga = [player for player in player_dict if player['full_name'] == 'Giannis Antetokounmpo'][0]\n",
    "ga_id = ga['id']\n",
    "ga"
   ],
   "id": "ab1ce74a6da11bed",
   "outputs": [
    {
     "data": {
      "text/plain": [
       "{'id': 203507,\n",
       " 'full_name': 'Giannis Antetokounmpo',\n",
       " 'first_name': 'Giannis',\n",
       " 'last_name': 'Antetokounmpo',\n",
       " 'is_active': True}"
      ]
     },
     "execution_count": 36,
     "metadata": {},
     "output_type": "execute_result"
    }
   ],
   "execution_count": 36
  },
  {
   "metadata": {
    "ExecuteTime": {
     "end_time": "2025-03-31T03:52:34.601577Z",
     "start_time": "2025-03-31T03:52:33.979094Z"
    }
   },
   "cell_type": "code",
   "source": [
    "# Coletando os dados do jogador via api\n",
    "gamelog_antetokounmpo = playergamelog.PlayerGameLog(player_id='203507', season = '2024')\n",
    "df_antetokounmpo_games_2024= gamelog_antetokounmpo.get_data_frames()"
   ],
   "id": "ea86102443a6e752",
   "outputs": [],
   "execution_count": 37
  },
  {
   "metadata": {
    "ExecuteTime": {
     "end_time": "2025-03-31T03:52:34.635915Z",
     "start_time": "2025-03-31T03:52:34.628812Z"
    }
   },
   "cell_type": "code",
   "source": [
    "# Extraindo o DataFrame da lista\n",
    "df_antetokounmpo_games_2024_df = df_antetokounmpo_games_2024[0]\n",
    "\n",
    "# Exibindo o DataFrame\n",
    "print(df_antetokounmpo_games_2024_df.head(20))"
   ],
   "id": "58767624083965be",
   "outputs": [
    {
     "name": "stdout",
     "output_type": "stream",
     "text": [
      "   SEASON_ID  Player_ID     Game_ID     GAME_DATE      MATCHUP WL  MIN  FGM  \\\n",
      "0      22024     203507  0022401083  MAR 30, 2025  MIL vs. ATL  L   30   11   \n",
      "1      22024     203507  0022401070  MAR 28, 2025  MIL vs. NYK  L   35   11   \n",
      "2      22024     203507  0022401043  MAR 24, 2025    MIL @ PHX  L   37   12   \n",
      "3      22024     203507  0022401027  MAR 22, 2025    MIL @ SAC  W   35   12   \n",
      "4      22024     203507  0022400996  MAR 20, 2025    MIL @ LAL  W   29    9   \n",
      "5      22024     203507  0022401012  MAR 18, 2025    MIL @ GSW  L   39    5   \n",
      "6      22024     203507  0022400982  MAR 16, 2025  MIL vs. OKC  L   36    7   \n",
      "7      22024     203507  0022400972  MAR 15, 2025  MIL vs. IND  W   35   14   \n",
      "8      22024     203507  0022400955  MAR 13, 2025  MIL vs. LAL  W   30    8   \n",
      "9      22024     203507  0022400942  MAR 11, 2025    MIL @ IND  L   34    9   \n",
      "10     22024     203507  0022400922  MAR 09, 2025  MIL vs. CLE  L   34   13   \n",
      "11     22024     203507  0022400917  MAR 08, 2025  MIL vs. ORL  L   35   15   \n",
      "12     22024     203507  0022400897  MAR 05, 2025  MIL vs. DAL  W   25   13   \n",
      "13     22024     203507  0022400884  MAR 04, 2025    MIL @ ATL  W   34    9   \n",
      "14     22024     203507  0022400865  MAR 01, 2025    MIL @ DAL  W   32    9   \n",
      "15     22024     203507  0022400846  FEB 27, 2025  MIL vs. DEN  W   33   11   \n",
      "16     22024     203507  0022400831  FEB 25, 2025    MIL @ HOU  L   32    9   \n",
      "17     22024     203507  0022400817  FEB 23, 2025  MIL vs. MIA  W   32   11   \n",
      "18     22024     203507  0022400799  FEB 21, 2025    MIL @ WAS  W   19    6   \n",
      "19     22024     203507  0022400793  FEB 20, 2025  MIL vs. LAC  W   24   10   \n",
      "\n",
      "    FGA  FG_PCT  ...  DREB  REB  AST  STL  BLK  TOV  PF  PTS  PLUS_MINUS  \\\n",
      "0    18   0.611  ...     8    9    5    1    0    5   3   31         -18   \n",
      "1    17   0.647  ...     8    9    7    0    0    2   5   30          -6   \n",
      "2    19   0.632  ...     9   10    5    1    0    2   3   31          -4   \n",
      "3    20   0.600  ...    11   17    3    1    1    2   2   32          -6   \n",
      "4    15   0.600  ...     6    7    4    2    1    3   1   28          19   \n",
      "5    16   0.313  ...     7    9    7    3    2    1   2   20          -7   \n",
      "6    15   0.467  ...     9   12   10    1    2    1   1   21         -13   \n",
      "7    19   0.737  ...     9   10    7    1    3    6   6   34           2   \n",
      "8    17   0.471  ...    10   12    9    1    1    3   1   24          22   \n",
      "9    14   0.643  ...    15   17    7    0    1    3   3   19          10   \n",
      "10   24   0.542  ...     5    9    3    2    0    4   1   30         -13   \n",
      "11   23   0.652  ...     7   11    4    1    0    1   1   37           2   \n",
      "12   20   0.650  ...    11   15    4    1    0    3   3   32          30   \n",
      "13   18   0.500  ...     9   12   10    1    0    3   2   26           9   \n",
      "14   14   0.643  ...     7    9    9    1    2    0   2   29          22   \n",
      "15   23   0.478  ...    17   19    7    0    1    2   3   28           8   \n",
      "16   17   0.529  ...     9   10    6    1    1    1   2   27           1   \n",
      "17   18   0.611  ...    13   16    7    1    1    3   2   23          16   \n",
      "18    9   0.667  ...     4    6    3    1    1    7   6   18           1   \n",
      "19   14   0.714  ...     8    8    4    0    1    3   3   23          -1   \n",
      "\n",
      "    VIDEO_AVAILABLE  \n",
      "0                 1  \n",
      "1                 1  \n",
      "2                 1  \n",
      "3                 1  \n",
      "4                 1  \n",
      "5                 1  \n",
      "6                 1  \n",
      "7                 1  \n",
      "8                 1  \n",
      "9                 1  \n",
      "10                1  \n",
      "11                1  \n",
      "12                1  \n",
      "13                1  \n",
      "14                1  \n",
      "15                1  \n",
      "16                1  \n",
      "17                1  \n",
      "18                1  \n",
      "19                1  \n",
      "\n",
      "[20 rows x 27 columns]\n"
     ]
    }
   ],
   "execution_count": 38
  },
  {
   "metadata": {
    "ExecuteTime": {
     "end_time": "2025-03-31T03:54:47.586156Z",
     "start_time": "2025-03-31T03:54:47.579545Z"
    }
   },
   "cell_type": "code",
   "source": [
    "# Selecionando as colunas desejadas\n",
    "selected_columns = ['MATCHUP', 'WL', 'MIN', 'FTM','FTA', 'FGM', 'FGA', 'PTS', 'REB', 'AST', 'PLUS_MINUS']\n",
    "df_antetokounmpo = df_antetokounmpo_games_2024_df[selected_columns]\n",
    "\n",
    "# Exibindo as primeiras linhas do DataFrame filtrado\n",
    "print(df_antetokounmpo.head(20))"
   ],
   "id": "b33449d0ef116272",
   "outputs": [
    {
     "name": "stdout",
     "output_type": "stream",
     "text": [
      "        MATCHUP WL  MIN  FTM  FTA  FGM  FGA  PTS  REB  AST  PLUS_MINUS\n",
      "0   MIL vs. ATL  L   30    9   14   11   18   31    9    5         -18\n",
      "1   MIL vs. NYK  L   35    8   11   11   17   30    9    7          -6\n",
      "2     MIL @ PHX  L   37    6   13   12   19   31   10    5          -4\n",
      "3     MIL @ SAC  W   35    8   13   12   20   32   17    3          -6\n",
      "4     MIL @ LAL  W   29   10   12    9   15   28    7    4          19\n",
      "5     MIL @ GSW  L   39   10   15    5   16   20    9    7          -7\n",
      "6   MIL vs. OKC  L   36    7   12    7   15   21   12   10         -13\n",
      "7   MIL vs. IND  W   35    6    6   14   19   34   10    7           2\n",
      "8   MIL vs. LAL  W   30    8   13    8   17   24   12    9          22\n",
      "9     MIL @ IND  L   34    1    3    9   14   19   17    7          10\n",
      "10  MIL vs. CLE  L   34    4    8   13   24   30    9    3         -13\n",
      "11  MIL vs. ORL  L   35    7   11   15   23   37   11    4           2\n",
      "12  MIL vs. DAL  W   25    6    6   13   20   32   15    4          30\n",
      "13    MIL @ ATL  W   34    8   12    9   18   26   12   10           9\n",
      "14    MIL @ DAL  W   32   11   13    9   14   29    9    9          22\n",
      "15  MIL vs. DEN  W   33    5    8   11   23   28   19    7           8\n",
      "16    MIL @ HOU  L   32    9   12    9   17   27   10    6           1\n",
      "17  MIL vs. MIA  W   32    0    0   11   18   23   16    7          16\n",
      "18    MIL @ WAS  W   19    6   11    6    9   18    6    3           1\n",
      "19  MIL vs. LAC  W   24    3    5   10   14   23    8    4          -1\n"
     ]
    }
   ],
   "execution_count": 49
  },
  {
   "metadata": {
    "ExecuteTime": {
     "end_time": "2025-03-31T03:54:48.859851Z",
     "start_time": "2025-03-31T03:54:48.853751Z"
    }
   },
   "cell_type": "code",
   "source": [
    "# Exibindo a média das colunas selecionadas\n",
    "average_stats_antetokounmpo = df_antetokounmpo[['MATCHUP', 'WL', 'MIN', 'FTM','FTA', 'FGM', 'FGA', 'PTS', 'REB', 'AST', 'PLUS_MINUS']].mean(numeric_only=True).round(1)\n",
    "print(average_stats_antetokounmpo)"
   ],
   "id": "c5371c4fae0e7e6",
   "outputs": [
    {
     "name": "stdout",
     "output_type": "stream",
     "text": [
      "MIN           34.0\n",
      "FTM            6.3\n",
      "FTA           10.5\n",
      "FGM           11.9\n",
      "FGA           19.8\n",
      "PTS           30.2\n",
      "REB           11.9\n",
      "AST            5.9\n",
      "PLUS_MINUS     3.6\n",
      "dtype: float64\n"
     ]
    }
   ],
   "execution_count": 50
  },
  {
   "metadata": {
    "ExecuteTime": {
     "end_time": "2025-03-31T03:54:50.782686Z",
     "start_time": "2025-03-31T03:54:50.777175Z"
    }
   },
   "cell_type": "code",
   "source": [
    "# Salvando o DataFrame em CSV\n",
    "df_antetokounmpo.to_csv('antetokounmpo_games_2024.csv', index=False)"
   ],
   "id": "348f5155a3e18102",
   "outputs": [],
   "execution_count": 51
  },
  {
   "metadata": {
    "ExecuteTime": {
     "end_time": "2025-03-31T03:55:57.201157Z",
     "start_time": "2025-03-31T03:55:57.195141Z"
    }
   },
   "cell_type": "code",
   "source": [
    "# Coletando informações sobre o jogador\n",
    "shai = [player for player in player_dict if player['full_name'] == 'Shai Gilgeous-Alexander'][0]\n",
    "shai_id = shai['id']\n",
    "shai"
   ],
   "id": "f030d6c615a6a5d8",
   "outputs": [
    {
     "data": {
      "text/plain": [
       "{'id': 1628983,\n",
       " 'full_name': 'Shai Gilgeous-Alexander',\n",
       " 'first_name': 'Shai',\n",
       " 'last_name': 'Gilgeous-Alexander',\n",
       " 'is_active': True}"
      ]
     },
     "execution_count": 55,
     "metadata": {},
     "output_type": "execute_result"
    }
   ],
   "execution_count": 55
  },
  {
   "metadata": {
    "ExecuteTime": {
     "end_time": "2025-03-31T03:57:53.321924Z",
     "start_time": "2025-03-31T03:57:52.984768Z"
    }
   },
   "cell_type": "code",
   "source": [
    "# Coletando os dados do jogador via api\n",
    "gamelog_shai = playergamelog.PlayerGameLog(player_id='1628983', season = '2024')\n",
    "df_shai_games_2024= gamelog_shai.get_data_frames()"
   ],
   "id": "98204ac160176942",
   "outputs": [],
   "execution_count": 58
  },
  {
   "metadata": {
    "ExecuteTime": {
     "end_time": "2025-03-31T03:58:19.531066Z",
     "start_time": "2025-03-31T03:58:19.522805Z"
    }
   },
   "cell_type": "code",
   "source": [
    "# Extraindo o DataFrame da lista\n",
    "df_shai_games_2024_df = df_shai_games_2024[0]\n",
    "\n",
    "# Exibindo o DataFrame\n",
    "print(df_shai_games_2024_df.head(20))"
   ],
   "id": "68aa4efaa2bed502",
   "outputs": [
    {
     "name": "stdout",
     "output_type": "stream",
     "text": [
      "   SEASON_ID  Player_ID     Game_ID     GAME_DATE      MATCHUP WL  MIN  FGM  \\\n",
      "0      22024    1628983  0022401079  MAR 29, 2025  OKC vs. IND  W   31   10   \n",
      "1      22024    1628983  0022401064  MAR 27, 2025  OKC vs. MEM  W   34   15   \n",
      "2      22024    1628983  0022401052  MAR 25, 2025    OKC @ SAC  W   33   10   \n",
      "3      22024    1628983  0022401036  MAR 23, 2025    OKC @ LAC  W   37    7   \n",
      "4      22024    1628983  0022401017  MAR 21, 2025  OKC vs. CHA  W   30   13   \n",
      "5      22024    1628983  0022400982  MAR 16, 2025    OKC @ MIL  W   34   11   \n",
      "6      22024    1628983  0022400969  MAR 15, 2025    OKC @ DET  W   38   17   \n",
      "7      22024    1628983  0022400946  MAR 12, 2025    OKC @ BOS  W   39   11   \n",
      "8      22024    1628983  0022400936  MAR 10, 2025  OKC vs. DEN  L   36    8   \n",
      "9      22024    1628983  0022400920  MAR 09, 2025  OKC vs. DEN  W   35   15   \n",
      "10     22024    1628983  0022400895  MAR 05, 2025    OKC @ MEM  W   35   14   \n",
      "11     22024    1628983  0022400879  MAR 03, 2025  OKC vs. HOU  W   36   18   \n",
      "12     22024    1628983  0022400871  MAR 02, 2025    OKC @ SAS  W   32   10   \n",
      "13     22024    1628983  0022400851  FEB 28, 2025    OKC @ ATL  W   34   12   \n",
      "14     22024    1628983  0022400840  FEB 26, 2025    OKC @ BKN  W   34    7   \n",
      "15     22024    1628983  0022400826  FEB 24, 2025  OKC vs. MIN  L   42   11   \n",
      "16     22024    1628983  0022400820  FEB 23, 2025    OKC @ MIN  W   38   13   \n",
      "17     22024    1628983  0022400804  FEB 21, 2025    OKC @ UTA  W   32    7   \n",
      "18     22024    1628983  0022400787  FEB 13, 2025    OKC @ MIN  L   34    6   \n",
      "19     22024    1628983  0022400778  FEB 12, 2025  OKC vs. MIA  W   38   11   \n",
      "\n",
      "    FGA  FG_PCT  ...  DREB  REB  AST  STL  BLK  TOV  PF  PTS  PLUS_MINUS  \\\n",
      "0    23   0.435  ...     4    7    8    1    0    0   2   33          17   \n",
      "1    25   0.600  ...     3    3    6    3    0    0   0   37          26   \n",
      "2    23   0.435  ...     8    8    5    0    0    5   2   32          13   \n",
      "3    29   0.241  ...     3    3    8    2    2    1   2   26           0   \n",
      "4    18   0.722  ...     6    6    9    1    0    1   2   30          31   \n",
      "5    27   0.407  ...     1    2    8    0    1    1   1   31           8   \n",
      "6    26   0.654  ...     4    4    6    3    1    2   1   48          18   \n",
      "7    20   0.550  ...     4    5    7    1    0    5   3   34           3   \n",
      "8    14   0.571  ...     2    3    7    1    2    3   2   25         -18   \n",
      "9    32   0.469  ...     6    8    5    0    3    1   3   40          11   \n",
      "10   25   0.560  ...     2    2    8    2    0    4   5   41          19   \n",
      "11   30   0.600  ...     3    5    7    1    1    2   1   51           6   \n",
      "12   19   0.526  ...     2    4    8    1    2    0   1   31          15   \n",
      "13   23   0.522  ...     3    3    5    2    0    1   0   31          23   \n",
      "14   11   0.636  ...     4    6    5    2    0    3   2   27         -15   \n",
      "15   20   0.550  ...     9   10    8    0    0    4   5   39           2   \n",
      "16   24   0.542  ...     8    8    8    3    3    5   3   37          16   \n",
      "17   16   0.438  ...     2    2    8    1    3    3   1   21          11   \n",
      "18   21   0.286  ...     6    8    9    0    0    1   2   24         -12   \n",
      "19   22   0.500  ...     4    5    9    2    0    1   4   32          19   \n",
      "\n",
      "    VIDEO_AVAILABLE  \n",
      "0                 1  \n",
      "1                 1  \n",
      "2                 1  \n",
      "3                 1  \n",
      "4                 1  \n",
      "5                 1  \n",
      "6                 1  \n",
      "7                 1  \n",
      "8                 1  \n",
      "9                 1  \n",
      "10                1  \n",
      "11                1  \n",
      "12                1  \n",
      "13                1  \n",
      "14                1  \n",
      "15                1  \n",
      "16                1  \n",
      "17                1  \n",
      "18                1  \n",
      "19                1  \n",
      "\n",
      "[20 rows x 27 columns]\n"
     ]
    }
   ],
   "execution_count": 59
  },
  {
   "metadata": {
    "ExecuteTime": {
     "end_time": "2025-03-31T03:58:21.197930Z",
     "start_time": "2025-03-31T03:58:21.190866Z"
    }
   },
   "cell_type": "code",
   "source": [
    "# Selecionando as colunas desejadas\n",
    "selected_columns = ['MATCHUP', 'WL', 'MIN', 'FTM','FTA', 'FGM', 'FGA', 'PTS', 'REB', 'AST', 'PLUS_MINUS']\n",
    "df_shai = df_shai_games_2024_df[selected_columns]\n",
    "\n",
    "# Exibindo as primeiras linhas do DataFrame filtrado\n",
    "print(df_shai.head(20))"
   ],
   "id": "e3f98456c2f5b857",
   "outputs": [
    {
     "name": "stdout",
     "output_type": "stream",
     "text": [
      "        MATCHUP WL  MIN  FTM  FTA  FGM  FGA  PTS  REB  AST  PLUS_MINUS\n",
      "0   OKC vs. IND  W   31   10   12   10   23   33    7    8          17\n",
      "1   OKC vs. MEM  W   34    7    9   15   25   37    3    6          26\n",
      "2     OKC @ SAC  W   33    9   10   10   23   32    8    5          13\n",
      "3     OKC @ LAC  W   37   11   11    7   29   26    3    8           0\n",
      "4   OKC vs. CHA  W   30    2    2   13   18   30    6    9          31\n",
      "5     OKC @ MIL  W   34    9   11   11   27   31    2    8           8\n",
      "6     OKC @ DET  W   38   10   10   17   26   48    4    6          18\n",
      "7     OKC @ BOS  W   39   10   11   11   20   34    5    7           3\n",
      "8   OKC vs. DEN  L   36    6    6    8   14   25    3    7         -18\n",
      "9   OKC vs. DEN  W   35    8    8   15   32   40    8    5          11\n",
      "10    OKC @ MEM  W   35   10   10   14   25   41    2    8          19\n",
      "11  OKC vs. HOU  W   36   10   10   18   30   51    5    7           6\n",
      "12    OKC @ SAS  W   32    8    9   10   19   31    4    8          15\n",
      "13    OKC @ ATL  W   34    4    4   12   23   31    3    5          23\n",
      "14    OKC @ BKN  W   34   12   13    7   11   27    6    5         -15\n",
      "15  OKC vs. MIN  L   42   14   17   11   20   39   10    8           2\n",
      "16    OKC @ MIN  W   38    8   11   13   24   37    8    8          16\n",
      "17    OKC @ UTA  W   32    6    6    7   16   21    2    8          11\n",
      "18    OKC @ MIN  L   34   11   11    6   21   24    8    9         -12\n",
      "19  OKC vs. MIA  W   38    6    9   11   22   32    5    9          19\n"
     ]
    }
   ],
   "execution_count": 60
  },
  {
   "metadata": {
    "ExecuteTime": {
     "end_time": "2025-03-31T03:59:05.234139Z",
     "start_time": "2025-03-31T03:59:05.228484Z"
    }
   },
   "cell_type": "code",
   "source": [
    "# Exibindo a média das colunas selecionadas\n",
    "average_stats_shai = df_shai[['MATCHUP', 'WL', 'MIN', 'FTM','FTA', 'FGM', 'FGA', 'PTS', 'REB', 'AST', 'PLUS_MINUS']].mean(numeric_only=True).round(1)\n",
    "print(average_stats_shai)"
   ],
   "id": "ecbef37839c51d43",
   "outputs": [
    {
     "name": "stdout",
     "output_type": "stream",
     "text": [
      "MIN           34.3\n",
      "FTM            8.1\n",
      "FTA            9.0\n",
      "FGM           11.3\n",
      "FGA           21.8\n",
      "PTS           32.9\n",
      "REB            5.1\n",
      "AST            6.3\n",
      "PLUS_MINUS    12.4\n",
      "dtype: float64\n"
     ]
    }
   ],
   "execution_count": 61
  },
  {
   "metadata": {
    "ExecuteTime": {
     "end_time": "2025-03-31T03:59:53.864215Z",
     "start_time": "2025-03-31T03:59:53.858643Z"
    }
   },
   "cell_type": "code",
   "source": [
    "# Salvando o DataFrame em CSV\n",
    "df_shai.to_csv('shai_games_2024.csv', index=False)"
   ],
   "id": "6c8141df5a4b7d8d",
   "outputs": [],
   "execution_count": 62
  },
  {
   "metadata": {
    "ExecuteTime": {
     "end_time": "2025-03-31T03:54:51.742263Z",
     "start_time": "2025-03-31T03:54:51.738254Z"
    }
   },
   "cell_type": "code",
   "source": [
    "# Contando vitórias e derrotas para Jokić\n",
    "wl_count_jokic = df_jokic['WL'].value_counts()\n",
    "\n",
    "# Contando vitórias e derrotas para Tatum\n",
    "wl_count_tatum = df_tatum['WL'].value_counts()\n",
    "\n",
    "# Contando vitórias e derrotas para Antetokounmpo\n",
    "wl_count_antetokounmpo = df_antetokounmpo['WL'].value_counts()\n",
    "\n",
    "# Contando vitórias e derrotas para Shai\n",
    "wl_count_shai = df_shai['WL'].value_counts()"
   ],
   "id": "cc282ee85b5ac6e7",
   "outputs": [],
   "execution_count": 52
  },
  {
   "metadata": {
    "ExecuteTime": {
     "end_time": "2025-03-31T04:03:06.424475Z",
     "start_time": "2025-03-31T04:03:06.413766Z"
    }
   },
   "cell_type": "code",
   "source": [
    "# Contando vitórias e derrotas para cada jogador\n",
    "wl_count_jokic = df_jokic['WL'].value_counts()\n",
    "wl_count_tatum = df_tatum['WL'].value_counts()\n",
    "wl_count_shai = df_shai['WL'].value_counts()\n",
    "wl_count_antetokounmpo = df_antetokounmpo['WL'].value_counts()\n",
    "\n",
    "# Calculando as estatísticas médias para cada jogador\n",
    "average_stats_jokic = df_jokic.mean(numeric_only=True).round(1)\n",
    "average_stats_tatum = df_tatum.mean(numeric_only=True).round(1)\n",
    "average_stats_shai = df_shai.mean(numeric_only=True).round(1)\n",
    "average_stats_antetokounmpo = df_antetokounmpo.mean(numeric_only=True).round(1)\n",
    "\n",
    "# Criando DataFrame de comparação das estatísticas médias\n",
    "comparison = pd.DataFrame({\n",
    "    \"Stat\": average_stats_jokic.index,\n",
    "    \"Jokic Average\": average_stats_jokic.values,\n",
    "    \"Tatum Average\": average_stats_tatum.values,\n",
    "    \"Shai Average\": average_stats_shai.values,\n",
    "    \"Antetokounmpo Average\": average_stats_antetokounmpo.values\n",
    "})\n",
    "\n",
    "# Adicionando contagem de vitórias e derrotas ao DataFrame\n",
    "wins_losses_data = pd.DataFrame({\n",
    "    \"Stat\": [\"Wins\", \"Losses\"],\n",
    "    \"Jokic Average\": [wl_count_jokic.get('W', 0), wl_count_jokic.get('L', 0)],\n",
    "    \"Tatum Average\": [wl_count_tatum.get('W', 0), wl_count_tatum.get('L', 0)],\n",
    "    \"Shai Average\": [wl_count_shai.get('W', 0), wl_count_shai.get('L', 0)],\n",
    "    \"Antetokounmpo Average\": [wl_count_antetokounmpo.get('W', 0), wl_count_antetokounmpo.get('L', 0)]\n",
    "})\n",
    "\n",
    "# Concatenando os dois DataFrames\n",
    "comparison = pd.concat([comparison, wins_losses_data], ignore_index=True)\n",
    "\n",
    "# Exibindo a comparação\n",
    "print(comparison)"
   ],
   "id": "25a4126a5f7fffab",
   "outputs": [
    {
     "name": "stdout",
     "output_type": "stream",
     "text": [
      "          Stat  Jokic Average  Tatum Average  Shai Average  \\\n",
      "0          MIN           36.5           36.4          34.3   \n",
      "1          FTM            5.0            5.0           8.1   \n",
      "2          FTA            6.3            6.2           9.0   \n",
      "3          FGM           11.2            9.3          11.3   \n",
      "4          FGA           19.4           20.4          21.8   \n",
      "5          PTS           29.2           27.2          32.9   \n",
      "6          REB           12.8            8.7           5.1   \n",
      "7          AST           10.2            6.0           6.3   \n",
      "8   PLUS_MINUS            8.5            7.4          12.4   \n",
      "9         Wins           43.0           49.0          60.0   \n",
      "10      Losses           21.0           18.0          11.0   \n",
      "\n",
      "    Antetokounmpo Average  \n",
      "0                    34.0  \n",
      "1                     6.3  \n",
      "2                    10.5  \n",
      "3                    11.9  \n",
      "4                    19.8  \n",
      "5                    30.2  \n",
      "6                    11.9  \n",
      "7                     5.9  \n",
      "8                     3.6  \n",
      "9                    34.0  \n",
      "10                   27.0  \n"
     ]
    }
   ],
   "execution_count": 64
  },
  {
   "metadata": {
    "ExecuteTime": {
     "end_time": "2025-03-31T04:04:52.572907Z",
     "start_time": "2025-03-31T04:04:52.230794Z"
    }
   },
   "cell_type": "code",
   "source": [
    "# Contando vitórias e derrotas para cada jogador\n",
    "wl_count_jokic = df_jokic['WL'].value_counts()\n",
    "wl_count_tatum = df_tatum['WL'].value_counts()\n",
    "wl_count_shai = df_shai['WL'].value_counts()\n",
    "wl_count_antetokounmpo = df_antetokounmpo['WL'].value_counts()\n",
    "\n",
    "# Calculando as estatísticas médias para cada jogador\n",
    "average_stats_jokic = df_jokic.mean(numeric_only=True).round(1)\n",
    "average_stats_tatum = df_tatum.mean(numeric_only=True).round(1)\n",
    "average_stats_shai = df_shai.mean(numeric_only=True).round(1)\n",
    "average_stats_antetokounmpo = df_antetokounmpo.mean(numeric_only=True).round(1)\n",
    "\n",
    "# Criando DataFrame de comparação das estatísticas médias\n",
    "comparison = pd.DataFrame({\n",
    "    \"Stat\": average_stats_jokic.index,\n",
    "    \"Jokic\": average_stats_jokic.values,\n",
    "    \"Tatum\": average_stats_tatum.values,\n",
    "    \"Shai\": average_stats_shai.values,\n",
    "    \"Antetokounmpo\": average_stats_antetokounmpo.values\n",
    "})\n",
    "\n",
    "# Adicionando contagem de vitórias e derrotas ao DataFrame\n",
    "wins_losses_data = pd.DataFrame({\n",
    "    \"Stat\": [\"Wins\", \"Losses\"],\n",
    "    \"Jokic\": [wl_count_jokic.get('W', 0), wl_count_jokic.get('L', 0)],\n",
    "    \"Tatum\": [wl_count_tatum.get('W', 0), wl_count_tatum.get('L', 0)],\n",
    "    \"Shai\": [wl_count_shai.get('W', 0), wl_count_shai.get('L', 0)],\n",
    "    \"Antetokounmpo\": [wl_count_antetokounmpo.get('W', 0), wl_count_antetokounmpo.get('L', 0)]\n",
    "})\n",
    "\n",
    "# Concatenando os dois DataFrames\n",
    "comparison = pd.concat([comparison, wins_losses_data], ignore_index=True)\n",
    "\n",
    "# Exibindo a comparação\n",
    "print(comparison)\n",
    "\n",
    "# Transformando o DataFrame para formato longo (long format)\n",
    "comparison_long = comparison.melt(id_vars=\"Stat\", var_name=\"Player\", value_name=\"Average\")\n",
    "\n",
    "# Gerando o gráfico de barras\n",
    "sns.barplot(\n",
    "    data=comparison_long,\n",
    "    x=\"Stat\",\n",
    "    y=\"Average\",\n",
    "    hue=\"Player\",\n",
    "    palette=sns.color_palette(\"Set2\", 4)\n",
    ")\n",
    "\n",
    "# Adicionando título e rótulos\n",
    "plt.title(\"Análise de Estatísticas: Nikola Jokić vs Jayson Tatum vs Shai Gilgeous-Alexander vs Giannis Antetokounmpo\", fontsize=16)\n",
    "plt.ylabel(\"Médias\", fontsize=12)\n",
    "plt.xlabel(\"Estatísticas\", fontsize=12)\n",
    "plt.xticks(rotation=45)\n",
    "plt.legend(title=\"Player\")\n",
    "plt.tight_layout()\n",
    "\n",
    "# Exibindo o gráfico\n",
    "plt.show()\n",
    "\n"
   ],
   "id": "d80a6f3fa0ec1f79",
   "outputs": [
    {
     "name": "stdout",
     "output_type": "stream",
     "text": [
      "          Stat  Jokic  Tatum  Shai  Antetokounmpo\n",
      "0          MIN   36.5   36.4  34.3           34.0\n",
      "1          FTM    5.0    5.0   8.1            6.3\n",
      "2          FTA    6.3    6.2   9.0           10.5\n",
      "3          FGM   11.2    9.3  11.3           11.9\n",
      "4          FGA   19.4   20.4  21.8           19.8\n",
      "5          PTS   29.2   27.2  32.9           30.2\n",
      "6          REB   12.8    8.7   5.1           11.9\n",
      "7          AST   10.2    6.0   6.3            5.9\n",
      "8   PLUS_MINUS    8.5    7.4  12.4            3.6\n",
      "9         Wins   43.0   49.0  60.0           34.0\n",
      "10      Losses   21.0   18.0  11.0           27.0\n"
     ]
    },
    {
     "data": {
      "text/plain": [
       "<Figure size 640x480 with 1 Axes>"
      ],
      "image/png": "[encoded data removed]"
     },
     "metadata": {},
     "output_type": "display_data"
    }
   ],
   "execution_count": 65
  },
  {
   "metadata": {
    "ExecuteTime": {
     "end_time": "2025-03-31T03:52:34.897449600Z",
     "start_time": "2025-03-05T03:17:33.317500Z"
    }
   },
   "cell_type": "code",
   "source": [
    "# Calcular o total de pontos de cada jogador\n",
    "total_points_jokic = df_jokic['PTS'].sum()\n",
    "total_points_tatum = df_tatum['PTS'].sum()\n",
    "total_points_antetokounmpo = df_antetokounmpo['PTS'].sum()\n",
    "players = ['Jokic', 'Tatum', 'Antetokounmpo']\n",
    "total_points = [total_points_jokic, total_points_tatum, total_points_antetokounmpo]\n",
    "\n",
    "# Plotar o gráfico de barras\n",
    "sns.barplot(x=players, y=total_points, palette=\"Set2\", hue=players, dodge=False, legend=False)\n",
    "plt.title(\"Soma de Pontos na Temporada 2024-25\")\n",
    "plt.xlabel(\"Jogadores\")\n",
    "plt.ylabel(\"Total de Pontos\")\n",
    "plt.show()"
   ],
   "id": "ab06bff1cee8752",
   "outputs": [
    {
     "data": {
      "text/plain": [
       "<Figure size 640x480 with 1 Axes>"
      ],
      "image/png": "[encoded data removed]"
     },
     "metadata": {},
     "output_type": "display_data"
    }
   ],
   "execution_count": 50
  },
  {
   "metadata": {
    "ExecuteTime": {
     "end_time": "2025-03-31T03:52:34.897449600Z",
     "start_time": "2025-03-05T03:17:33.476230Z"
    }
   },
   "cell_type": "code",
   "source": [
    "# Calcular o total de pontos de cada jogador\n",
    "total_points_jokic = df_jokic['REB'].sum()\n",
    "total_points_tatum = df_tatum['REB'].sum()\n",
    "total_points_antetokounmpo = df_antetokounmpo['REB'].sum()\n",
    "players = ['Jokic', 'Tatum', 'Antetokounmpo']\n",
    "total_points = [total_points_jokic, total_points_tatum, total_points_antetokounmpo]\n",
    "\n",
    "# Plotar o gráfico de barras\n",
    "sns.barplot(x=players, y=total_points, palette=\"Set2\", hue=players, dodge=False, legend=False)\n",
    "plt.title(\"Soma de Rebotes na Temporada 2024-25\")\n",
    "plt.xlabel(\"Jogadores\")\n",
    "plt.ylabel(\"Total de Rebotes\")\n",
    "plt.show()"
   ],
   "id": "4c1f4d49e83c3bd",
   "outputs": [
    {
     "data": {
      "text/plain": [
       "<Figure size 640x480 with 1 Axes>"
      ],
      "image/png": "[encoded data removed]"
     },
     "metadata": {},
     "output_type": "display_data"
    }
   ],
   "execution_count": 51
  },
  {
   "metadata": {
    "ExecuteTime": {
     "end_time": "2025-03-31T03:52:34.897449600Z",
     "start_time": "2025-03-05T03:17:33.631945Z"
    }
   },
   "cell_type": "code",
   "source": [
    "# Calcular o total de pontos de cada jogador\n",
    "total_points_jokic = df_jokic['AST'].sum()\n",
    "total_points_tatum = df_tatum['AST'].sum()\n",
    "total_points_antetokounmpo = df_antetokounmpo['AST'].sum()\n",
    "players = ['Jokic', 'Tatum', 'Antetokounmpo']\n",
    "total_points = [total_points_jokic, total_points_tatum, total_points_antetokounmpo]\n",
    "\n",
    "# Plotar o gráfico de barras\n",
    "sns.barplot(x=players, y=total_points, palette=\"Set2\", hue=players, dodge=False, legend=False)\n",
    "plt.title(\"Soma de Assistências na Temporada 2024-25\")\n",
    "plt.xlabel(\"Jogadores\")\n",
    "plt.ylabel(\"Total de Assistências\")\n",
    "plt.show()"
   ],
   "id": "30a0bece3aeebd68",
   "outputs": [
    {
     "data": {
      "text/plain": [
       "<Figure size 640x480 with 1 Axes>"
      ],
      "image/png": "[encoded data removed]"
     },
     "metadata": {},
     "output_type": "display_data"
    }
   ],
   "execution_count": 52
  }
 ],
 "metadata": {
  "kernelspec": {
   "display_name": "Python 3",
   "language": "python",
   "name": "python3"
  },
  "language_info": {
   "codemirror_mode": {
    "name": "ipython",
    "version": 2
   },
   "file_extension": ".py",
   "mimetype": "text/x-python",
   "name": "python",
   "nbconvert_exporter": "python",
   "pygments_lexer": "ipython2",
   "version": "2.7.6"
  }
 },
 "nbformat": 4,
 "nbformat_minor": 5
}
